{
 "cells": [
  {
   "cell_type": "code",
   "execution_count": 1,
   "metadata": {},
   "outputs": [],
   "source": [
    "import pandas as pd"
   ]
  },
  {
   "cell_type": "code",
   "execution_count": 2,
   "metadata": {},
   "outputs": [
    {
     "data": {
      "text/plain": [
       "['one.a.X', 'one.a.Y', 'one.a.Z', 'one.b.X']"
      ]
     },
     "execution_count": 2,
     "metadata": {},
     "output_type": "execute_result"
    }
   ],
   "source": [
    "str_list = [f'{x}.{y}.{z}'\n",
    "            for x in ['one', 'two', 'three']\n",
    "            for y in ['a', 'b', 'c', 'd']\n",
    "            for z in ['X', 'Y', 'Z']]\n",
    "str_list[:4]"
   ]
  },
  {
   "cell_type": "code",
   "execution_count": 3,
   "metadata": {},
   "outputs": [
    {
     "data": {
      "text/html": [
       "<div>\n",
       "<style scoped>\n",
       "    .dataframe tbody tr th:only-of-type {\n",
       "        vertical-align: middle;\n",
       "    }\n",
       "\n",
       "    .dataframe tbody tr th {\n",
       "        vertical-align: top;\n",
       "    }\n",
       "\n",
       "    .dataframe thead th {\n",
       "        text-align: right;\n",
       "    }\n",
       "</style>\n",
       "<table border=\"1\" class=\"dataframe\">\n",
       "  <thead>\n",
       "    <tr style=\"text-align: right;\">\n",
       "      <th></th>\n",
       "      <th>col</th>\n",
       "    </tr>\n",
       "  </thead>\n",
       "  <tbody>\n",
       "    <tr>\n",
       "      <th>0</th>\n",
       "      <td>one.a.X</td>\n",
       "    </tr>\n",
       "    <tr>\n",
       "      <th>1</th>\n",
       "      <td>one.a.Y</td>\n",
       "    </tr>\n",
       "    <tr>\n",
       "      <th>2</th>\n",
       "      <td>one.a.Z</td>\n",
       "    </tr>\n",
       "    <tr>\n",
       "      <th>3</th>\n",
       "      <td>one.b.X</td>\n",
       "    </tr>\n",
       "    <tr>\n",
       "      <th>4</th>\n",
       "      <td>one.b.Y</td>\n",
       "    </tr>\n",
       "  </tbody>\n",
       "</table>\n",
       "</div>"
      ],
      "text/plain": [
       "       col\n",
       "0  one.a.X\n",
       "1  one.a.Y\n",
       "2  one.a.Z\n",
       "3  one.b.X\n",
       "4  one.b.Y"
      ]
     },
     "execution_count": 3,
     "metadata": {},
     "output_type": "execute_result"
    }
   ],
   "source": [
    "df = pd.DataFrame({'col': str_list})\n",
    "df.head()"
   ]
  },
  {
   "cell_type": "markdown",
   "metadata": {},
   "source": [
    "# Split and Join\n",
    "\n",
    "`str.split` and `str.join` are each the inverse of the other. We can test a round trip:"
   ]
  },
  {
   "cell_type": "code",
   "execution_count": 4,
   "metadata": {},
   "outputs": [
    {
     "data": {
      "text/plain": [
       "0       one-a-X\n",
       "1       one-a-Y\n",
       "2       one-a-Z\n",
       "3       one-b-X\n",
       "4       one-b-Y\n",
       "5       one-b-Z\n",
       "6       one-c-X\n",
       "7       one-c-Y\n",
       "8       one-c-Z\n",
       "9       one-d-X\n",
       "10      one-d-Y\n",
       "11      one-d-Z\n",
       "12      two-a-X\n",
       "13      two-a-Y\n",
       "14      two-a-Z\n",
       "15      two-b-X\n",
       "16      two-b-Y\n",
       "17      two-b-Z\n",
       "18      two-c-X\n",
       "19      two-c-Y\n",
       "20      two-c-Z\n",
       "21      two-d-X\n",
       "22      two-d-Y\n",
       "23      two-d-Z\n",
       "24    three-a-X\n",
       "25    three-a-Y\n",
       "26    three-a-Z\n",
       "27    three-b-X\n",
       "28    three-b-Y\n",
       "29    three-b-Z\n",
       "30    three-c-X\n",
       "31    three-c-Y\n",
       "32    three-c-Z\n",
       "33    three-d-X\n",
       "34    three-d-Y\n",
       "35    three-d-Z\n",
       "Name: col, dtype: object"
      ]
     },
     "execution_count": 4,
     "metadata": {},
     "output_type": "execute_result"
    }
   ],
   "source": [
    "(df.col\n",
    " .str.split('.')\n",
    " .str.join(sep='-')\n",
    ")"
   ]
  },
  {
   "cell_type": "markdown",
   "metadata": {},
   "source": [
    "## Split and take one element\n"
   ]
  },
  {
   "cell_type": "code",
   "execution_count": 5,
   "metadata": {},
   "outputs": [
    {
     "data": {
      "text/plain": [
       "0    one*a\n",
       "1    one*a\n",
       "2    one*a\n",
       "3    one*b\n",
       "4    one*b\n",
       "Name: col, dtype: object"
      ]
     },
     "execution_count": 5,
     "metadata": {},
     "output_type": "execute_result"
    }
   ],
   "source": [
    "(df.col\n",
    " .str.split('.')\n",
    " .str[0:2]\n",
    " .str.join(sep='*')\n",
    ").head()"
   ]
  },
  {
   "cell_type": "code",
   "execution_count": 6,
   "metadata": {},
   "outputs": [
    {
     "data": {
      "text/html": [
       "<div>\n",
       "<style scoped>\n",
       "    .dataframe tbody tr th:only-of-type {\n",
       "        vertical-align: middle;\n",
       "    }\n",
       "\n",
       "    .dataframe tbody tr th {\n",
       "        vertical-align: top;\n",
       "    }\n",
       "\n",
       "    .dataframe thead th {\n",
       "        text-align: right;\n",
       "    }\n",
       "</style>\n",
       "<table border=\"1\" class=\"dataframe\">\n",
       "  <thead>\n",
       "    <tr style=\"text-align: right;\">\n",
       "      <th></th>\n",
       "      <th>col</th>\n",
       "      <th>col0</th>\n",
       "    </tr>\n",
       "  </thead>\n",
       "  <tbody>\n",
       "    <tr>\n",
       "      <th>0</th>\n",
       "      <td>one.a.X</td>\n",
       "      <td>one*a</td>\n",
       "    </tr>\n",
       "    <tr>\n",
       "      <th>1</th>\n",
       "      <td>one.a.Y</td>\n",
       "      <td>one*a</td>\n",
       "    </tr>\n",
       "    <tr>\n",
       "      <th>2</th>\n",
       "      <td>one.a.Z</td>\n",
       "      <td>one*a</td>\n",
       "    </tr>\n",
       "    <tr>\n",
       "      <th>3</th>\n",
       "      <td>one.b.X</td>\n",
       "      <td>one*b</td>\n",
       "    </tr>\n",
       "    <tr>\n",
       "      <th>4</th>\n",
       "      <td>one.b.Y</td>\n",
       "      <td>one*b</td>\n",
       "    </tr>\n",
       "  </tbody>\n",
       "</table>\n",
       "</div>"
      ],
      "text/plain": [
       "       col   col0\n",
       "0  one.a.X  one*a\n",
       "1  one.a.Y  one*a\n",
       "2  one.a.Z  one*a\n",
       "3  one.b.X  one*b\n",
       "4  one.b.Y  one*b"
      ]
     },
     "execution_count": 6,
     "metadata": {},
     "output_type": "execute_result"
    }
   ],
   "source": [
    "(df\n",
    " .assign(col0=(df.col\n",
    "               .str.split('.')\n",
    "               .str[0:2]\n",
    "               .str.join(sep='*')\n",
    "              )\n",
    "        )\n",
    ").head()"
   ]
  },
  {
   "cell_type": "code",
   "execution_count": null,
   "metadata": {},
   "outputs": [],
   "source": []
  }
 ],
 "metadata": {
  "kernelspec": {
   "display_name": "Python 3.6 (py36)",
   "language": "python",
   "name": "py36"
  },
  "language_info": {
   "codemirror_mode": {
    "name": "ipython",
    "version": 3
   },
   "file_extension": ".py",
   "mimetype": "text/x-python",
   "name": "python",
   "nbconvert_exporter": "python",
   "pygments_lexer": "ipython3",
   "version": "3.6.5"
  },
  "toc": {
   "nav_menu": {},
   "number_sections": false,
   "sideBar": true,
   "skip_h1_title": false,
   "toc_cell": false,
   "toc_position": {},
   "toc_section_display": "block",
   "toc_window_display": true
  }
 },
 "nbformat": 4,
 "nbformat_minor": 2
}
